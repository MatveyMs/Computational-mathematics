{
 "cells": [
  {
   "attachments": {},
   "cell_type": "markdown",
   "metadata": {},
   "source": [
    "## Часть 1. Пример проблемы использования метода Гаусса для решения СЛАУ\n",
    "\n",
    "Перед вами простая реализация метода Гаусса для решения СЛАУ. Далее по коду представлены две СЛАУ $A_1x = b_1$ и $A_2x = b_2$, эквивалентные с точностью до перестановки строк. Эти СЛАУ решаются сначала пакетным методом, затем реализованным методом Гаусса. Для пакетного метода получается два одинаковых решения. Для метода Гаусса - два отличающихся решения. ЗАДАНИЕ: необходимо объяснить, почему для представленного метода Гаусса решения различаются."
   ]
  },
  {
   "cell_type": "code",
   "execution_count": 9,
   "metadata": {},
   "outputs": [],
   "source": [
    "import numpy as np\n",
    "import numpy.linalg as la\n",
    "import copy \n",
    "\n",
    "def gauss( A_in, b_in ):\n",
    "    n = b_in.size\n",
    "    A = copy.deepcopy(A_in)\n",
    "    b = copy.deepcopy(b_in)\n",
    "    for k in range(0,n-1):\n",
    "        for i in range(k+1,n):\n",
    "            if A[i,k]!=0:\n",
    "                c = A[i,k]/A[k,k]\n",
    "                A[i,k+1:n] = A[i,k+1:n] - c*A[k,k+1:n]\n",
    "                b[i] = b[i] - c*b[k]\n",
    "                \n",
    "    # обратный ход\n",
    "    for k in range(n-1,-1,-1):\n",
    "        b[k] = (b[k] - np.dot(A[k,k+1:n],b[k+1:n]))/A[k,k]\n",
    "    return b"
   ]
  },
  {
   "cell_type": "code",
   "execution_count": 10,
   "metadata": {},
   "outputs": [
    {
     "name": "stdout",
     "output_type": "stream",
     "text": [
      "mu1 =  16.39373162228438\n",
      "mu2 =  16.393731622284395\n"
     ]
    }
   ],
   "source": [
    "A1 = np.array([[1e-16, 1., -1.], [-1., 2., -1.], [2., -1., 0.]])\n",
    "b1 = np.array([0., 0., 1.])\n",
    "\n",
    "A2 = np.array([[2., -1., 0.], [-1., 2., -1.], [1e-16, 1., -1.]])\n",
    "b2 = np.array([1., 0., 0.])\n",
    "\n",
    "print('mu1 = ', la.cond(A1))\n",
    "print('mu2 = ', la.cond(A2))"
   ]
  },
  {
   "cell_type": "code",
   "execution_count": 11,
   "metadata": {},
   "outputs": [
    {
     "name": "stdout",
     "output_type": "stream",
     "text": [
      "u1 =  [1. 1. 1.]\n",
      "u2 =  [1. 1. 1.]\n"
     ]
    }
   ],
   "source": [
    "print('u1 = ', la.solve(A1, b1))\n",
    "print('u2 = ', la.solve(A2, b2))"
   ]
  },
  {
   "cell_type": "code",
   "execution_count": 12,
   "metadata": {},
   "outputs": [
    {
     "name": "stdout",
     "output_type": "stream",
     "text": [
      "u1 =  [0.55511151 0.25       0.25      ]\n",
      "u2 =  [1. 1. 1.]\n"
     ]
    }
   ],
   "source": [
    "print('u1 = ', gauss(A1, b1))\n",
    "print('u2 = ', gauss(A2, b2))"
   ]
  },
  {
   "cell_type": "markdown",
   "metadata": {},
   "source": [
    "Заметим, что для первой матрицы системы A для 1ой строки не выполнено условие диагонального преобладания (a_11 << a_12 + a_13). Из-за чего при выполнение метода Гаусса после деления на диагональный элемент возникает ошибка."
   ]
  },
  {
   "attachments": {},
   "cell_type": "markdown",
   "metadata": {},
   "source": [
    "## Часть 2. LU разложение"
   ]
  },
  {
   "attachments": {},
   "cell_type": "markdown",
   "metadata": {},
   "source": [
    "Задание: \n",
    "\n",
    "реализовать алгоритм решения предыдущей задачи с матрицей A2 с помощью LU-разложение В решении должна выводиться L, U и собственно решение системы. \n",
    "\n",
    "ВАЖНО: реализация метода LU должна быть получена путем небольшой модификации метода gauss!  При это саму реализацию можно разделить на два метода: один метод собственно находит LU разложение (можно сделать переделкой цикла для матрицы A метода gauss), второй метод - непосредственное решение системы с помощью прямого и обратного хода. Ни в каком виде нельзя пользоваться пакетными методами (в частности, la.solve)"
   ]
  },
  {
   "cell_type": "markdown",
   "metadata": {},
   "source": [
    "Заметим, что при прямом ходе Гаусса мы получаем верхнетреугольную матрицу U = A_n-1, а коэффициенты нижнетреугольной матрицы L получаются как коэффициенты c = a_ik/a_kk. Доказывается в 2.4 Лобанов, Петров."
   ]
  },
  {
   "cell_type": "code",
   "execution_count": 5,
   "metadata": {},
   "outputs": [
    {
     "name": "stdout",
     "output_type": "stream",
     "text": [
      "[1. 1. 1.]\n"
     ]
    }
   ],
   "source": [
    "import numpy as np\n",
    "import numpy.linalg as la\n",
    "import copy \n",
    "\n",
    "def LU_decomposition(A_in):\n",
    "    A = copy.deepcopy(A_in)\n",
    "    n = A.shape[0]\n",
    "    L = np.eye(n)\n",
    "\n",
    "    for k in range(0,n-1):\n",
    "        for i in range(k+1,n):\n",
    "            if A[i,k]!=0:\n",
    "                L[i, k] = A[i,k]/A[k,k] # Записываем коэффициент в L\n",
    "                A[i] = A[i] - L[i, k] * A[k]\n",
    "    \n",
    "    return L, A\n",
    "\n",
    "A = np.array([[2., -1., 0.], [-1., 2., -1.], [1e-16, 1., -1.]])\n",
    "b = np.array([1., 0., 0.])\n",
    "\n",
    "def solve_lu(A, b):\n",
    "    L, U = LU_decomposition(A)\n",
    "    n = L.shape[0]\n",
    "\n",
    "    #print(L, '\\n\\n\\n')\n",
    "    #print(U, '\\n\\n\\n')\n",
    "    \n",
    "    # Решение Ly = b (нижнетреугольная матрица) прямой ход\n",
    "    y = np.zeros(n)\n",
    "    for i in range(n):\n",
    "        y[i] = b[i] - np.dot(L[i, :i], y[:i])\n",
    "    \n",
    "    # Решение Ux = y (верхнереугольная матрица) обратный ход\n",
    "    x = np.zeros(n)\n",
    "    for i in range(n-1, -1, -1):\n",
    "        x[i] = (y[i] - np.dot(U[i, i+1:], x[i+1:])) / U[i, i]\n",
    "        \n",
    "    return x\n",
    "\n",
    "solution = solve_lu(A, b)\n",
    "print(solution)"
   ]
  },
  {
   "attachments": {},
   "cell_type": "markdown",
   "metadata": {
    "collapsed": true
   },
   "source": [
    "### LU - разложение с помощью пакета sympy"
   ]
  },
  {
   "attachments": {},
   "cell_type": "markdown",
   "metadata": {},
   "source": [
    "Чтобы убедиться, что разложение получено верно, можно воспользоваться скриптом ниже"
   ]
  },
  {
   "cell_type": "code",
   "execution_count": 6,
   "metadata": {},
   "outputs": [
    {
     "data": {
      "text/latex": [
       "$\\displaystyle \\left[\\begin{matrix}1 & 0 & 0\\\\-0.5 & 1 & 0\\\\0 & 0.666666666666667 & 1\\end{matrix}\\right]$"
      ],
      "text/plain": [
       "Matrix([\n",
       "[   1,                 0, 0],\n",
       "[-0.5,                 1, 0],\n",
       "[   0, 0.666666666666667, 1]])"
      ]
     },
     "execution_count": 6,
     "metadata": {},
     "output_type": "execute_result"
    }
   ],
   "source": [
    "import sympy as sp\n",
    "\n",
    "A = sp.Matrix([[2., -1., 0.], [-1., 2., -1.], [0, 1., -1.]])\n",
    "L, U, _ = A.LUdecomposition()\n",
    "L"
   ]
  },
  {
   "cell_type": "code",
   "execution_count": 7,
   "metadata": {},
   "outputs": [
    {
     "data": {
      "text/latex": [
       "$\\displaystyle \\left[\\begin{matrix}2.0 & -1.0 & 0.0\\\\0 & 1.5 & -1.0\\\\0 & 0 & -0.333333333333333\\end{matrix}\\right]$"
      ],
      "text/plain": [
       "Matrix([\n",
       "[2.0, -1.0,                0.0],\n",
       "[  0,  1.5,               -1.0],\n",
       "[  0,    0, -0.333333333333333]])"
      ]
     },
     "execution_count": 7,
     "metadata": {},
     "output_type": "execute_result"
    }
   ],
   "source": [
    "U"
   ]
  },
  {
   "attachments": {},
   "cell_type": "markdown",
   "metadata": {},
   "source": [
    "## Часть 3. Нахождение обратной матрицы с помощью LU разложения"
   ]
  },
  {
   "cell_type": "markdown",
   "metadata": {},
   "source": [
    "Задание:\n",
    "\n",
    "Предложить алгоритм с использованием LU-разложения и найти обратную матрицу с точностью $\\epsilon = 10^{-3}$:\n",
    "$$\n",
    "A = \\begin{pmatrix} \n",
    "1 & 1  & 1 \\\\\n",
    "0 & 1 & 2 \\\\\n",
    "7 & 1 & 4 \\\\\n",
    "\\end{pmatrix}\n",
    "$$\n",
    "Для необходимых оценок использовать первую норму. Сравнить результат со значением, найденным с помощью функции numpy.linalg.inv."
   ]
  },
  {
   "cell_type": "markdown",
   "metadata": {},
   "source": [
    "Решение: для уравнения AX = E требуется найти матрицу X. Рассмотрим i-ый столбец первого уравнения, тогда Ax = e_i (единичный вектор в iой строке), используя LU-разложение получим следующие уравнения Ly = e_i, Ux = y, которые мы умеем решать. Поочередно решив эти уравнения получим все столбцы интересующей нас матрицы X (A^-1)."
   ]
  },
  {
   "cell_type": "code",
   "execution_count": 8,
   "metadata": {},
   "outputs": [
    {
     "name": "stdout",
     "output_type": "stream",
     "text": [
      "[[ 0.22222222 -0.33333333  0.11111111]\n",
      " [ 1.55555556 -0.33333333 -0.22222222]\n",
      " [-0.77777778  0.66666667  0.11111111]] \n",
      "\n",
      "\n",
      "[[ 0.22222222 -0.33333333  0.11111111]\n",
      " [ 1.55555556 -0.33333333 -0.22222222]\n",
      " [-0.77777778  0.66666667  0.11111111]] \n",
      "\n",
      "\n",
      "7.216449660063518e-16\n"
     ]
    }
   ],
   "source": [
    "import numpy as np\n",
    "\n",
    "A = np.array([[1., 1., 1.], [0., 1., 2.], [7., 1., 4.]])\n",
    "\n",
    "def LU_decomposition(A_in):\n",
    "    A = copy.deepcopy(A_in)\n",
    "    n = A.shape[0]\n",
    "    L = np.eye(n)\n",
    "\n",
    "    for k in range(0,n-1):\n",
    "        for i in range(k+1,n):\n",
    "            if A[i,k]!=0:\n",
    "                c = A[i,k]/A[k,k]\n",
    "                L[i, k] = c  # Записываем коэффициент в L\n",
    "                A[i] = A[i] - c * A[k]\n",
    "    \n",
    "    return L, A\n",
    "\n",
    "def inverse_matrix(A):\n",
    "    n = A.shape[0]\n",
    "    L, U = LU_decomposition(A)\n",
    "    inv_A = np.zeros((n,n))\n",
    "    \n",
    "    for i in range(n):\n",
    "        e_i = np.zeros(n)\n",
    "        e_i[i] = 1  # единичный вектор\n",
    "\n",
    "        # Решение Ly = e_i (нижнетреугольная матрица) прямой ход\n",
    "        y = np.zeros(n)\n",
    "        for j in range(n):\n",
    "            y[j] = e_i[j] - np.sum(L[j, :j] * y[:j])\n",
    "\n",
    "        # Решение Ux = y (верхнереугольная матрица) обратный ход\n",
    "        x = np.zeros(n)\n",
    "        for j in range(n - 1, -1, -1):\n",
    "            x[j] = (y[j] - np.sum(U[j, j + 1:] * x[j + 1:])) / U[j, j]\n",
    "\n",
    "        inv_A[:, i] = x\n",
    "\n",
    "    return inv_A\n",
    "\n",
    "A = np.array([[1., 1., 1.], [0., 1., 2.], [7., 1., 4.]])\n",
    "\n",
    "inv_A_lu = inverse_matrix(A)\n",
    "inv_A_np = np.linalg.inv(A)\n",
    "\n",
    "norm_difference = np.linalg.norm(inv_A_lu - inv_A_np, ord=1)\n",
    "\n",
    "print(inv_A_lu, \"\\n\\n\")\n",
    "print(inv_A_np, \"\\n\\n\")\n",
    "\n",
    "print(norm_difference)"
   ]
  },
  {
   "attachments": {},
   "cell_type": "markdown",
   "metadata": {},
   "source": [
    "## Часть 4. Модифицированный метод Гаусса\n",
    "\n",
    "Модифицировать метод Гаусса из Части 1 так, чтобы система $A_1x = b_1$ решалась корректно. ВАЖНО: реализация метода должна быть получена путем модификации метода gauss, а не переписыванием кода с нуля! "
   ]
  },
  {
   "cell_type": "code",
   "execution_count": 9,
   "metadata": {},
   "outputs": [
    {
     "name": "stdout",
     "output_type": "stream",
     "text": [
      "u1 =  [1. 1. 1.]\n",
      "u2 =  [1. 1. 1.]\n"
     ]
    }
   ],
   "source": [
    "import copy \n",
    "\n",
    "def gauss_main_elem( A_in, b_in ):\n",
    "    n = b_in.size\n",
    "    A = copy.deepcopy(A_in)\n",
    "    b = copy.deepcopy(b_in)\n",
    "    for k in range(0,n-1):\n",
    "\n",
    "        # Поиск максимального элемента в столбце\n",
    "        max_index = np.argmax(np.abs(A[k:, k])) + k\n",
    "        # Обмен строк\n",
    "        A[[k, max_index]] = A[[max_index, k]]\n",
    "        b[k], b[max_index] = b[max_index], b[k]\n",
    "\n",
    "        for i in range(k+1,n):\n",
    "            if A[i,k]!=0:\n",
    "                c = A[i,k]/A[k,k]\n",
    "                A[i,k+1:n] = A[i,k+1:n] - c*A[k,k+1:n]\n",
    "                b[i] = b[i] - c*b[k]\n",
    "                \n",
    "    # обратный ход\n",
    "    for k in range(n-1,-1,-1):\n",
    "        b[k] = (b[k] - np.dot(A[k,k+1:n],b[k+1:n]))/A[k,k]\n",
    "    return b\n",
    "\n",
    "A1 = np.array([[1e-16, 1., -1.], [-1., 2., -1.], [2., -1., 0.]])\n",
    "b1 = np.array([0., 0., 1.])\n",
    "\n",
    "A2 = np.array([[2., -1., 0.], [-1., 2., -1.], [1e-16, 1., -1.]])\n",
    "b2 = np.array([1., 0., 0.])\n",
    "\n",
    "print('u1 = ', gauss_main_elem(A1, b1))\n",
    "print('u2 = ', gauss_main_elem(A2, b2))"
   ]
  }
 ],
 "metadata": {
  "anaconda-cloud": {},
  "kernelspec": {
   "display_name": "Python 3",
   "language": "python",
   "name": "python3"
  },
  "language_info": {
   "codemirror_mode": {
    "name": "ipython",
    "version": 3
   },
   "file_extension": ".py",
   "mimetype": "text/x-python",
   "name": "python",
   "nbconvert_exporter": "python",
   "pygments_lexer": "ipython3",
   "version": "3.11.9"
  }
 },
 "nbformat": 4,
 "nbformat_minor": 2
}
